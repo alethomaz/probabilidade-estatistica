{
 "cells": [
  {
   "cell_type": "markdown",
   "id": "090998dc",
   "metadata": {},
   "source": [
    "### Importando tabela data table e criando DF base"
   ]
  },
  {
   "cell_type": "code",
   "execution_count": 1,
   "id": "a9f00680",
   "metadata": {},
   "outputs": [],
   "source": [
    "library(data.table)\n",
    "# Criando dataframe base de dados\n",
    "base <- fread(input = paste0(\"mobile.csv\"), header = T, na.strings = \"NA\", data.table = FALSE, dec=\",\")\n"
   ]
  },
  {
   "cell_type": "markdown",
   "id": "369331e2",
   "metadata": {},
   "source": []
  }
 ],
 "metadata": {
  "kernelspec": {
   "display_name": "R",
   "language": "R",
   "name": "ir"
  },
  "language_info": {
   "codemirror_mode": "r",
   "file_extension": ".r",
   "mimetype": "text/x-r-source",
   "name": "R",
   "pygments_lexer": "r",
   "version": "4.1.2"
  }
 },
 "nbformat": 4,
 "nbformat_minor": 5
}
